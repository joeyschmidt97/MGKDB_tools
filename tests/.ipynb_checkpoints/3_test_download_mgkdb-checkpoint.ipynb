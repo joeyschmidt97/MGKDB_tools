{
 "cells": [
  {
   "cell_type": "markdown",
   "id": "784d05f1-c94f-4382-9dbf-09ee9ed87e7f",
   "metadata": {},
   "source": [
    "## Code to access MGKDB \n",
    "Venkitesh ayyar\n",
    "Feb 12, 2024 "
   ]
  },
  {
   "cell_type": "code",
   "execution_count": 1,
   "id": "a26d13a7-a755-4665-9aef-b577a1f18a34",
   "metadata": {
    "tags": []
   },
   "outputs": [],
   "source": [
    "import numpy as np\n",
    "import datetime\n",
    "import os\n",
    "\n",
    "import pymongo\n",
    "import pprint\n",
    "from bson.objectid import ObjectId\n"
   ]
  },
  {
   "cell_type": "code",
   "execution_count": 2,
   "id": "0bf837a6-2288-4575-8e2f-b78dee55d875",
   "metadata": {
    "tags": []
   },
   "outputs": [],
   "source": [
    "import sys\n",
    "sys.path.append('../MGKDB/support')\n",
    "from mgk_login import mgk_login"
   ]
  },
  {
   "cell_type": "markdown",
   "id": "0601379f-1d67-455f-b3c9-e9f053fdf57b",
   "metadata": {},
   "source": [
    "## Login to NERSC database "
   ]
  },
  {
   "cell_type": "code",
   "execution_count": 3,
   "id": "535334b4-0e2e-49d2-acb3-21f4fa21cc4d",
   "metadata": {
    "tags": []
   },
   "outputs": [],
   "source": [
    "def f_login_db(method,db_credentials=None,login_dict=None):\n",
    "    \n",
    "    assert method in ['login_file','direct']\n",
    "    \n",
    "    #### Method 1: MGKDB code login.py file  with repository and saved credentials from file db_credentials\n",
    "    if method=='login_file': \n",
    "        \n",
    "        login = mgk_login()\n",
    "        try:\n",
    "            login.from_saved(os.path.abspath(db_credentials))\n",
    "        except OSError:\n",
    "            exit(\"The specified credential file is not found!\")\n",
    "\n",
    "        client = login.connect()\n",
    "    \n",
    "    #### Method 2 : Directly access database with login credentials from login_dict\n",
    "    elif method=='direct': \n",
    "        \n",
    "        client = pymongo.MongoClient(login_dict['server'])[login_dict['dbname']]\n",
    "        client.authenticate(login_dict['user'],login_dict['pwd'])\n",
    "    \n",
    "    return client"
   ]
  },
  {
   "cell_type": "code",
   "execution_count": 4,
   "id": "b59d892d-844b-48db-be5e-3c40d25528a9",
   "metadata": {
    "tags": []
   },
   "outputs": [],
   "source": [
    "## Method 1 : This requires importing mgk_login.py from the MGKDB repo\n",
    "db_credentials='<path_to_credentials.pkl>'\n",
    "\n",
    "client = f_login_db('login_file',db_credentials,None)"
   ]
  },
  {
   "cell_type": "code",
   "execution_count": 5,
   "id": "2b508c78-45a6-4bb0-bfef-d60f049669f5",
   "metadata": {
    "tags": []
   },
   "outputs": [],
   "source": [
    "## Method 2 \n",
    "### Read-only credentials \n",
    "login_dict={'server':'mongodb03.nersc.gov',\n",
    "         'port'  :'27017',\n",
    "         'dbname':'mgk_fusion',\n",
    "         'user'  :'<db_username>',\n",
    "         'pwd'   :'<db_password>'\n",
    "        }\n",
    "\n",
    "client = f_login_db('direct',None,login_dict)"
   ]
  },
  {
   "cell_type": "markdown",
   "id": "bccc5dfb-facd-4e09-b26e-abd52f48ee61",
   "metadata": {},
   "source": [
    "## Download data using client  "
   ]
  },
  {
   "cell_type": "code",
   "execution_count": 6,
   "id": "ba135d8f-469a-452a-b587-c7f85773e691",
   "metadata": {
    "tags": []
   },
   "outputs": [
    {
     "name": "stdout",
     "output_type": "stream",
     "text": [
      "Collections ['LinearRuns', 'ex.Lin', 'NonlinRuns', 'fs.chunks', 'fs.files', 'ex.Nonlin']\n",
      "Find Meta for OID\n",
      "{'Meta': {'comments': '',\n",
      "          'confidence': -1.0,\n",
      "          'keywords': ['buildbot', 'linear'],\n",
      "          'last_updated': '200812-212722',\n",
      "          'run_collection_name': '/scratch/michoski/cori/scanfiles0000',\n",
      "          'run_suffix': '_0001',\n",
      "          'simulation_type': 'GENE',\n",
      "          'time_uploaded': '200812-212722',\n",
      "          'user': 'dykuang'},\n",
      " '_id': ObjectId('5f34a519bafb0f9d07b05721')}\n",
      "\n",
      "Find id for confidence\n"
     ]
    }
   ],
   "source": [
    "## Test extract \n",
    "print(\"Collections\",client.list_collection_names())\n",
    "\n",
    "print(\"Find Meta for OID\")\n",
    "for r in client.LinearRuns.find({\"_id\":ObjectId(\"5f34a519bafb0f9d07b05721\")},{'Meta':1}):\n",
    "    pprint.pprint(r)\n",
    "\n",
    "    \n",
    "## Find ids with confidence level greater than a value\n",
    "print(\"\\nFind id for confidence\")\n",
    "for r in client.LinearRuns.find({\"Meta.confidence\":{\"$gt\":6.0}},{\"_id\":1}):\n",
    "    pprint.pprint(r)\n",
    "    "
   ]
  },
  {
   "cell_type": "code",
   "execution_count": null,
   "id": "d003e880-1256-4b7b-a57b-91e2525f0132",
   "metadata": {},
   "outputs": [],
   "source": []
  }
 ],
 "metadata": {
  "kernelspec": {
   "display_name": "mgkdb",
   "language": "python",
   "name": "mgkdb"
  },
  "language_info": {
   "codemirror_mode": {
    "name": "ipython",
    "version": 3
   },
   "file_extension": ".py",
   "mimetype": "text/x-python",
   "name": "python",
   "nbconvert_exporter": "python",
   "pygments_lexer": "ipython3",
   "version": "3.8.18"
  }
 },
 "nbformat": 4,
 "nbformat_minor": 5
}
